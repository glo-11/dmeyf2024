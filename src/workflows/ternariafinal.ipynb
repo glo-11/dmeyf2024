{
 "cells": [
  {
   "cell_type": "code",
   "execution_count": null,
   "metadata": {},
   "outputs": [],
   "source": [
    "import pandas as pd\n",
    "import os"
   ]
  },
  {
   "cell_type": "code",
   "execution_count": null,
   "metadata": {},
   "outputs": [],
   "source": [
    "# Ruta del archivo\n",
    "ruta_archivo = '/home/valenciag17/datasets/competencia_03_crudo.csv.gz'\n",
    "\n",
    "# Leer el archivo especificando el separador\n",
    "df = pd.read_csv(ruta_archivo)"
   ]
  },
  {
   "cell_type": "code",
   "execution_count": null,
   "metadata": {},
   "outputs": [],
   "source": [
    "# Asegurarse de que las columnas están en el formato correcto\n",
    "# Asegurar que foto_mes sea un entero\n",
    "df['foto_mes'] = df['foto_mes'].astype(int)"
   ]
  },
  {
   "cell_type": "code",
   "execution_count": null,
   "metadata": {},
   "outputs": [],
   "source": [
    "# Ordenar los datos por cliente y por periodo\n",
    "df = df.sort_values(by=['numero_de_cliente', 'foto_mes']).reset_index(drop=True)\n",
    "\n",
    "# Obtener el periodo más reciente\n",
    "ultimo_periodo = df['foto_mes'].max()\n",
    "\n",
    "# Crear columnas temporales para verificar la continuidad de registros\n",
    "df['siguiente_mes'] = df.groupby('numero_de_cliente')['foto_mes'].shift(-1)\n",
    "df['dos_meses_despues'] = df.groupby('numero_de_cliente')['foto_mes'].shift(-2)\n",
    "\n",
    "# Condiciones para asignar clase_ternaria\n",
    "df['clase_ternaria'] = 'CONTINUA'  # Por defecto\n",
    "\n",
    "# Identificar BAJA+1: cuando no existe el siguiente mes\n",
    "df.loc[(df['siguiente_mes'].isna()) & (df['foto_mes'] < ultimo_periodo), 'clase_ternaria'] = 'BAJA+1'\n",
    "\n",
    "# Identificar BAJA+2: cuando no existe dos meses después y el cliente no es BAJA+1\n",
    "df.loc[\n",
    "    (df['dos_meses_despues'].isna()) &\n",
    "    (df['foto_mes'] < ultimo_periodo - 1) &\n",
    "    (df['clase_ternaria'] != 'BAJA+1'),\n",
    "    'clase_ternaria'\n",
    "] = 'BAJA+2'\n",
    "\n",
    "# Eliminar columnas temporales\n",
    "df.drop(columns=['siguiente_mes', 'dos_meses_despues'], inplace=True)\n",
    "\n",
    "# Mostrar resultados para verificar\n",
    "print(df.head(20))"
   ]
  },
  {
   "cell_type": "code",
   "execution_count": null,
   "metadata": {},
   "outputs": [],
   "source": [
    "# Si es necesario guardar los resultados\n",
    "df.to_csv('/home/valenciag17/buckets/b1/datasets/competencia_03_final.csv.gz', index=False)"
   ]
  }
 ],
 "metadata": {
  "kernelspec": {
   "display_name": "base",
   "language": "python",
   "name": "python3"
  },
  "language_info": {
   "codemirror_mode": {
    "name": "ipython",
    "version": 3
   },
   "file_extension": ".py",
   "mimetype": "text/x-python",
   "name": "python",
   "nbconvert_exporter": "python",
   "pygments_lexer": "ipython3",
   "version": "3.12.4"
  }
 },
 "nbformat": 4,
 "nbformat_minor": 2
}
